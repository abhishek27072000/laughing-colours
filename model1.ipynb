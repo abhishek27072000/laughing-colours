{
  "nbformat": 4,
  "nbformat_minor": 0,
  "metadata": {
    "colab": {
      "name": "model1",
      "provenance": [],
      "collapsed_sections": [],
      "authorship_tag": "ABX9TyMyDdw8ISgbqrWm8zPULMi+",
      "include_colab_link": true
    },
    "kernelspec": {
      "name": "python3",
      "display_name": "Python 3"
    },
    "accelerator": "GPU"
  },
  "cells": [
    {
      "cell_type": "markdown",
      "metadata": {
        "id": "view-in-github",
        "colab_type": "text"
      },
      "source": [
        "<a href=\"https://colab.research.google.com/github/abhishek2720/readme/blob/master/model1.ipynb\" target=\"_parent\"><img src=\"https://colab.research.google.com/assets/colab-badge.svg\" alt=\"Open In Colab\"/></a>"
      ]
    },
    {
      "cell_type": "code",
      "metadata": {
        "id": "yBRQQPRrwz_p"
      },
      "source": [
        "from google.colab import drive\n",
        "drive.mount('/content/drive')"
      ],
      "execution_count": null,
      "outputs": []
    },
    {
      "cell_type": "code",
      "metadata": {
        "colab": {
          "base_uri": "https://localhost:8080/"
        },
        "id": "Qhyd0N5NsOjU",
        "outputId": "72c19e3f-4dd6-43b6-c2d5-f15f62eddd9a"
      },
      "source": [
        "import tensorflow as tf\n",
        "\n",
        "#config = tf.ConfigProto()\n",
        "#config.gpu_options.allow_growth = True\n",
        "#Now when creating your session pass this config to it.\n",
        "#sess = tf.Session(config=config)\n",
        "\n",
        "\n",
        "\n",
        "\n",
        "\n",
        "\n",
        "#from keras.preprocessing.image import ImageDataGenerator\n",
        "from tensorflow.keras import Sequential\n",
        "from tensorflow.keras.layers import Conv2D\n",
        "from tensorflow.keras.layers import MaxPooling2D\n",
        "from tensorflow.keras import Model\n",
        "#from keras.models import Sequencial\n",
        "#from tensorflow.keras import conv2D ,MaxPooling2D\n",
        "from keras.layers import Activation,Dropout,Flatten,Dense\n",
        "from keras import backend as K\n",
        "import numpy as np\n",
        "from keras.preprocessing import image\n",
        "from keras.preprocessing.image import ImageDataGenerator\n",
        "\n",
        "img_width ,img_height = 512,512\n",
        "train_dir = '/content/drive/MyDrive/Common/Data/Train'\n",
        "test_dir = '/content/drive/MyDrive/Common/Data/Validation'\n",
        "nb_train_samples = 8680\n",
        "nb_test_samples = 1800 \n",
        "epochs = 20\n",
        "batch_size = 32\n",
        "\n",
        "if K.image_data_format() == 'channels_first':\n",
        "    input_shape = (3,img_width,img_height)\n",
        "else:\n",
        "    input_shape = (img_width,img_height,3)\n",
        "\n",
        "train_datagen = ImageDataGenerator(rescale=1. /255)\n",
        "test_datagen = ImageDataGenerator(rescale=1. /255)\n",
        "\n",
        "train_generator = train_datagen.flow_from_directory(train_dir,\n",
        "                                                   target_size = (512,512),\n",
        "                                                   batch_size = batch_size,\n",
        "                                                   class_mode = 'binary')\n",
        "test_generator = test_datagen.flow_from_directory(test_dir,\n",
        "                                                   target_size = (512,512),\n",
        "                                                   batch_size = batch_size,\n",
        "                                                   class_mode = 'binary')\n"
      ],
      "execution_count": null,
      "outputs": [
        {
          "output_type": "stream",
          "text": [
            "Found 6200 images belonging to 2 classes.\n",
            "Found 1800 images belonging to 2 classes.\n"
          ],
          "name": "stdout"
        }
      ]
    },
    {
      "cell_type": "code",
      "metadata": {
        "colab": {
          "base_uri": "https://localhost:8080/"
        },
        "id": "brezKZr18pDX",
        "outputId": "cb285b95-5322-4743-ef03-0e2a77ef363f"
      },
      "source": [
        "import tensorflow as tf\n",
        "import keras\n",
        "model = keras.models.Sequential()\n",
        "layer = tf.keras.layers.Activation('relu')\n",
        "\n",
        "\n",
        "\n",
        "#model=Sequencial()\n",
        "model.add(Conv2D(32,(3,3),input_shape=input_shape))\n",
        "\n",
        "model.add(Activation('relu'))\n",
        "model.add(MaxPooling2D(pool_size=(2,2)))\n",
        "model.add(Dropout(0.5))\n",
        "model.summary()\n",
        "\n",
        "model.add(Conv2D(32,(3,3)))\n",
        "model.add(Activation('relu'))\n",
        "model.add(MaxPooling2D(pool_size=(2,2)))\n",
        "model.add(Dropout(0.5))\n",
        "\n",
        "model.add(Conv2D(64,(3,3)))\n",
        "model.add(Activation('relu'))\n",
        "model.add(MaxPooling2D(pool_size=(2,2)))\n",
        "model.add(Dropout(0.5))\n",
        "model.add(Flatten())\n",
        "model.add(Dense(64))\n",
        "model.add(Activation('relu'))\n",
        "model.add(Dropout(0.25))\n",
        "model.add(Dense(1))\n",
        "model.add(Activation('sigmoid'))\n",
        "model.summary()\n",
        "\n",
        "model.compile(loss='binary_crossentropy',\n",
        "             optimizer = 'Adam',\n",
        "             metrics=['accuracy']\n",
        "             )\n",
        "model.fit_generator(\n",
        "    train_generator,\n",
        "    steps_per_epoch=nb_train_samples//batch_size,\n",
        "    epochs=epochs,\n",
        "    validation_data=test_generator,\n",
        "    validation_steps = nb_test_samples//batch_size)\n",
        "  "
      ],
      "execution_count": null,
      "outputs": [
        {
          "output_type": "stream",
          "text": [
            "Model: \"sequential\"\n",
            "_________________________________________________________________\n",
            "Layer (type)                 Output Shape              Param #   \n",
            "=================================================================\n",
            "conv2d (Conv2D)              (None, 510, 510, 32)      896       \n",
            "_________________________________________________________________\n",
            "activation_1 (Activation)    (None, 510, 510, 32)      0         \n",
            "_________________________________________________________________\n",
            "max_pooling2d (MaxPooling2D) (None, 255, 255, 32)      0         \n",
            "_________________________________________________________________\n",
            "dropout (Dropout)            (None, 255, 255, 32)      0         \n",
            "=================================================================\n",
            "Total params: 896\n",
            "Trainable params: 896\n",
            "Non-trainable params: 0\n",
            "_________________________________________________________________\n",
            "Model: \"sequential\"\n",
            "_________________________________________________________________\n",
            "Layer (type)                 Output Shape              Param #   \n",
            "=================================================================\n",
            "conv2d (Conv2D)              (None, 510, 510, 32)      896       \n",
            "_________________________________________________________________\n",
            "activation_1 (Activation)    (None, 510, 510, 32)      0         \n",
            "_________________________________________________________________\n",
            "max_pooling2d (MaxPooling2D) (None, 255, 255, 32)      0         \n",
            "_________________________________________________________________\n",
            "dropout (Dropout)            (None, 255, 255, 32)      0         \n",
            "_________________________________________________________________\n",
            "conv2d_1 (Conv2D)            (None, 253, 253, 32)      9248      \n",
            "_________________________________________________________________\n",
            "activation_2 (Activation)    (None, 253, 253, 32)      0         \n",
            "_________________________________________________________________\n",
            "max_pooling2d_1 (MaxPooling2 (None, 126, 126, 32)      0         \n",
            "_________________________________________________________________\n",
            "dropout_1 (Dropout)          (None, 126, 126, 32)      0         \n",
            "_________________________________________________________________\n",
            "conv2d_2 (Conv2D)            (None, 124, 124, 64)      18496     \n",
            "_________________________________________________________________\n",
            "activation_3 (Activation)    (None, 124, 124, 64)      0         \n",
            "_________________________________________________________________\n",
            "max_pooling2d_2 (MaxPooling2 (None, 62, 62, 64)        0         \n",
            "_________________________________________________________________\n",
            "dropout_2 (Dropout)          (None, 62, 62, 64)        0         \n",
            "_________________________________________________________________\n",
            "flatten (Flatten)            (None, 246016)            0         \n",
            "_________________________________________________________________\n",
            "dense (Dense)                (None, 64)                15745088  \n",
            "_________________________________________________________________\n",
            "activation_4 (Activation)    (None, 64)                0         \n",
            "_________________________________________________________________\n",
            "dropout_3 (Dropout)          (None, 64)                0         \n",
            "_________________________________________________________________\n",
            "dense_1 (Dense)              (None, 1)                 65        \n",
            "_________________________________________________________________\n",
            "activation_5 (Activation)    (None, 1)                 0         \n",
            "=================================================================\n",
            "Total params: 15,773,793\n",
            "Trainable params: 15,773,793\n",
            "Non-trainable params: 0\n",
            "_________________________________________________________________\n"
          ],
          "name": "stdout"
        },
        {
          "output_type": "stream",
          "text": [
            "/usr/local/lib/python3.6/dist-packages/tensorflow/python/keras/engine/training.py:1844: UserWarning: `Model.fit_generator` is deprecated and will be removed in a future version. Please use `Model.fit`, which supports generators.\n",
            "  warnings.warn('`Model.fit_generator` is deprecated and '\n"
          ],
          "name": "stderr"
        },
        {
          "output_type": "stream",
          "text": [
            "Epoch 1/20\n",
            "271/271 [==============================] - 3120s 11s/step - loss: 1.3005 - accuracy: 0.7125 - val_loss: 0.4137 - val_accuracy: 0.8510\n",
            "Epoch 2/20\n",
            "271/271 [==============================] - 233s 860ms/step - loss: 0.3150 - accuracy: 0.8894 - val_loss: 0.3562 - val_accuracy: 0.8538\n",
            "Epoch 3/20\n",
            "271/271 [==============================] - 227s 837ms/step - loss: 0.2502 - accuracy: 0.9106 - val_loss: 0.2121 - val_accuracy: 0.9146\n",
            "Epoch 4/20\n",
            "271/271 [==============================] - 232s 855ms/step - loss: 0.1978 - accuracy: 0.9246 - val_loss: 0.1834 - val_accuracy: 0.9224\n",
            "Epoch 5/20\n",
            "271/271 [==============================] - 232s 856ms/step - loss: 0.1553 - accuracy: 0.9372 - val_loss: 0.2745 - val_accuracy: 0.9018\n",
            "Epoch 6/20\n",
            "271/271 [==============================] - 229s 845ms/step - loss: 0.1151 - accuracy: 0.9596 - val_loss: 0.1950 - val_accuracy: 0.9129\n",
            "Epoch 7/20\n",
            "271/271 [==============================] - 229s 844ms/step - loss: 0.0951 - accuracy: 0.9659 - val_loss: 0.0810 - val_accuracy: 0.9704\n",
            "Epoch 8/20\n",
            "271/271 [==============================] - 231s 852ms/step - loss: 0.0641 - accuracy: 0.9800 - val_loss: 0.0982 - val_accuracy: 0.9576\n",
            "Epoch 9/20\n",
            "271/271 [==============================] - 229s 845ms/step - loss: 0.0513 - accuracy: 0.9829 - val_loss: 0.0666 - val_accuracy: 0.9760\n",
            "Epoch 10/20\n",
            "271/271 [==============================] - 230s 850ms/step - loss: 0.0477 - accuracy: 0.9817 - val_loss: 0.0742 - val_accuracy: 0.9693\n",
            "Epoch 11/20\n",
            "271/271 [==============================] - 229s 845ms/step - loss: 0.0412 - accuracy: 0.9869 - val_loss: 0.0873 - val_accuracy: 0.9754\n",
            "Epoch 12/20\n",
            "271/271 [==============================] - 228s 842ms/step - loss: 0.0301 - accuracy: 0.9884 - val_loss: 0.1157 - val_accuracy: 0.9704\n",
            "Epoch 13/20\n",
            "271/271 [==============================] - 229s 846ms/step - loss: 0.0383 - accuracy: 0.9849 - val_loss: 0.1764 - val_accuracy: 0.9559\n",
            "Epoch 14/20\n",
            "271/271 [==============================] - 229s 845ms/step - loss: 0.0275 - accuracy: 0.9885 - val_loss: 0.0905 - val_accuracy: 0.9738\n",
            "Epoch 15/20\n",
            "271/271 [==============================] - 227s 838ms/step - loss: 0.0269 - accuracy: 0.9909 - val_loss: 0.0918 - val_accuracy: 0.9782\n",
            "Epoch 16/20\n",
            "271/271 [==============================] - 229s 844ms/step - loss: 0.0286 - accuracy: 0.9881 - val_loss: 0.0880 - val_accuracy: 0.9844\n",
            "Epoch 17/20\n",
            "271/271 [==============================] - 231s 851ms/step - loss: 0.0216 - accuracy: 0.9920 - val_loss: 0.0770 - val_accuracy: 0.9704\n",
            "Epoch 18/20\n",
            "271/271 [==============================] - 229s 844ms/step - loss: 0.0184 - accuracy: 0.9927 - val_loss: 0.0607 - val_accuracy: 0.9844\n",
            "Epoch 19/20\n",
            "271/271 [==============================] - 227s 839ms/step - loss: 0.0180 - accuracy: 0.9929 - val_loss: 0.0613 - val_accuracy: 0.9760\n",
            "Epoch 20/20\n",
            "271/271 [==============================] - 230s 847ms/step - loss: 0.0492 - accuracy: 0.9838 - val_loss: 0.1273 - val_accuracy: 0.9609\n"
          ],
          "name": "stdout"
        },
        {
          "output_type": "execute_result",
          "data": {
            "text/plain": [
              "<tensorflow.python.keras.callbacks.History at 0x7f0350fd8d68>"
            ]
          },
          "metadata": {
            "tags": []
          },
          "execution_count": 4
        }
      ]
    },
    {
      "cell_type": "code",
      "metadata": {
        "id": "P3Sl1A748uZU",
        "colab": {
          "base_uri": "https://localhost:8080/",
          "height": 214
        },
        "outputId": "f51f32b1-1093-4864-b0c8-bdebc64074c4"
      },
      "source": [
        "model.save_weights('first_try.h5')\n",
        "img_pred = image.load_img('/content/crr.jpeg',target_size=(512,512))\n",
        "img_pred = image.img_to_array(img_pred)\n",
        "img_pred = np.expand_dims(img_pred , axis = 0)\n"
      ],
      "execution_count": null,
      "outputs": [
        {
          "output_type": "error",
          "ename": "NameError",
          "evalue": "ignored",
          "traceback": [
            "\u001b[0;31m---------------------------------------------------------------------------\u001b[0m",
            "\u001b[0;31mNameError\u001b[0m                                 Traceback (most recent call last)",
            "\u001b[0;32m<ipython-input-3-46d1b83e4016>\u001b[0m in \u001b[0;36m<module>\u001b[0;34m()\u001b[0m\n\u001b[0;32m----> 1\u001b[0;31m \u001b[0mmodel\u001b[0m\u001b[0;34m.\u001b[0m\u001b[0msave_weights\u001b[0m\u001b[0;34m(\u001b[0m\u001b[0;34m'first_try.h5'\u001b[0m\u001b[0;34m)\u001b[0m\u001b[0;34m\u001b[0m\u001b[0;34m\u001b[0m\u001b[0m\n\u001b[0m\u001b[1;32m      2\u001b[0m \u001b[0mimg_pred\u001b[0m \u001b[0;34m=\u001b[0m \u001b[0mimage\u001b[0m\u001b[0;34m.\u001b[0m\u001b[0mload_img\u001b[0m\u001b[0;34m(\u001b[0m\u001b[0;34m'/content/crr.jpeg'\u001b[0m\u001b[0;34m,\u001b[0m\u001b[0mtarget_size\u001b[0m\u001b[0;34m=\u001b[0m\u001b[0;34m(\u001b[0m\u001b[0;36m512\u001b[0m\u001b[0;34m,\u001b[0m\u001b[0;36m512\u001b[0m\u001b[0;34m)\u001b[0m\u001b[0;34m)\u001b[0m\u001b[0;34m\u001b[0m\u001b[0;34m\u001b[0m\u001b[0m\n\u001b[1;32m      3\u001b[0m \u001b[0mimg_pred\u001b[0m \u001b[0;34m=\u001b[0m \u001b[0mimage\u001b[0m\u001b[0;34m.\u001b[0m\u001b[0mimg_to_array\u001b[0m\u001b[0;34m(\u001b[0m\u001b[0mimg_pred\u001b[0m\u001b[0;34m)\u001b[0m\u001b[0;34m\u001b[0m\u001b[0;34m\u001b[0m\u001b[0m\n\u001b[1;32m      4\u001b[0m \u001b[0mimg_pred\u001b[0m \u001b[0;34m=\u001b[0m \u001b[0mnp\u001b[0m\u001b[0;34m.\u001b[0m\u001b[0mexpand_dims\u001b[0m\u001b[0;34m(\u001b[0m\u001b[0mimg_pred\u001b[0m \u001b[0;34m,\u001b[0m \u001b[0maxis\u001b[0m \u001b[0;34m=\u001b[0m \u001b[0;36m0\u001b[0m\u001b[0;34m)\u001b[0m\u001b[0;34m\u001b[0m\u001b[0;34m\u001b[0m\u001b[0m\n",
            "\u001b[0;31mNameError\u001b[0m: name 'model' is not defined"
          ]
        }
      ]
    },
    {
      "cell_type": "code",
      "metadata": {
        "colab": {
          "base_uri": "https://localhost:8080/",
          "height": 231
        },
        "id": "V7nxk2lhcrYO",
        "outputId": "b6b6783a-e6d6-4bf8-87ca-adab7ff918ab"
      },
      "source": [
        "result = model.predict(img_pred)\n",
        "print(result)\n",
        "\n",
        "if result[0][0] ==1:\n",
        "    prediction = \"weed\"\n",
        "    \n",
        "else:\n",
        "    prediction = \"crop\"\n",
        "    \n",
        "print(prediction)"
      ],
      "execution_count": null,
      "outputs": [
        {
          "output_type": "error",
          "ename": "NameError",
          "evalue": "ignored",
          "traceback": [
            "\u001b[0;31m---------------------------------------------------------------------------\u001b[0m",
            "\u001b[0;31mNameError\u001b[0m                                 Traceback (most recent call last)",
            "\u001b[0;32m<ipython-input-1-ebe674504b5a>\u001b[0m in \u001b[0;36m<module>\u001b[0;34m()\u001b[0m\n\u001b[0;32m----> 1\u001b[0;31m \u001b[0mresult\u001b[0m \u001b[0;34m=\u001b[0m \u001b[0mmodel\u001b[0m\u001b[0;34m.\u001b[0m\u001b[0mpredict\u001b[0m\u001b[0;34m(\u001b[0m\u001b[0mimg_pred\u001b[0m\u001b[0;34m)\u001b[0m\u001b[0;34m\u001b[0m\u001b[0;34m\u001b[0m\u001b[0m\n\u001b[0m\u001b[1;32m      2\u001b[0m \u001b[0mprint\u001b[0m\u001b[0;34m(\u001b[0m\u001b[0mresult\u001b[0m\u001b[0;34m)\u001b[0m\u001b[0;34m\u001b[0m\u001b[0;34m\u001b[0m\u001b[0m\n\u001b[1;32m      3\u001b[0m \u001b[0;34m\u001b[0m\u001b[0m\n\u001b[1;32m      4\u001b[0m \u001b[0;32mif\u001b[0m \u001b[0mresult\u001b[0m\u001b[0;34m[\u001b[0m\u001b[0;36m0\u001b[0m\u001b[0;34m]\u001b[0m\u001b[0;34m[\u001b[0m\u001b[0;36m0\u001b[0m\u001b[0;34m]\u001b[0m \u001b[0;34m==\u001b[0m\u001b[0;36m1\u001b[0m\u001b[0;34m:\u001b[0m\u001b[0;34m\u001b[0m\u001b[0;34m\u001b[0m\u001b[0m\n\u001b[1;32m      5\u001b[0m     \u001b[0mprediction\u001b[0m \u001b[0;34m=\u001b[0m \u001b[0;34m\"weed\"\u001b[0m\u001b[0;34m\u001b[0m\u001b[0;34m\u001b[0m\u001b[0m\n",
            "\u001b[0;31mNameError\u001b[0m: name 'model' is not defined"
          ]
        }
      ]
    },
    {
      "cell_type": "code",
      "metadata": {
        "id": "wbPjjy5Fcuwt"
      },
      "source": [
        ""
      ],
      "execution_count": null,
      "outputs": []
    }
  ]
}